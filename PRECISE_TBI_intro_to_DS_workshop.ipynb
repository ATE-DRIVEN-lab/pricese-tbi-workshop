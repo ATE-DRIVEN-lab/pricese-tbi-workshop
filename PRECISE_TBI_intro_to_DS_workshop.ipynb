{
  "nbformat": 4,
  "nbformat_minor": 0,
  "metadata": {
    "colab": {
      "provenance": []
    },
    "kernelspec": {
      "name": "ir",
      "display_name": "R"
    },
    "language_info": {
      "name": "R"
    }
  },
  "cells": [
    {
      "cell_type": "markdown",
      "source": [
        "![](https://static.wixstatic.com/media/5b62b0_6b2cf04875324e6abd77b9e6e518aed4~mv2.jpg/v1/crop/x_1269,y_540,w_2943,h_2700/fill/w_185,h_169,al_c,q_80,usm_0.66_1.00_0.01,enc_auto/Final%20PRECISE%20LOGO.jpg)\n",
        "\n",
        "# Introduction to data science\n",
        "\n",
        "**I AM A (CODING) NOTEBOOK**\n",
        "\n",
        "bla bla..\n"
      ],
      "metadata": {
        "id": "GY7-3CH5g6aZ"
      }
    },
    {
      "cell_type": "markdown",
      "source": [
        "# Table of Contents <a name=\"toc\"></a>\n",
        "1. [Setting up](#Setting-up)\n",
        "2. [Explor your data](#explor-your-data)\n",
        "3. [Some analysis](#some-analysis)\n",
        "4. [Design the next experiment](#design)"
      ],
      "metadata": {
        "id": "XpcIjJ19eKy0"
      }
    },
    {
      "cell_type": "markdown",
      "source": [
        "# 1. Setting up <a name=\"setting-up\"></a>\n",
        "[back up](#toc)\n",
        "\n",
        "The code below is used to load a set of libraries or extensions to our workspace, which provides with extra functionalities that we will be using for this interactive demo. The command import tells the workspace what to load.\n",
        "\n",
        "Go ahead and run the chunk of code below. You can pass the mouse over and see a play ▶ button. Click it to run the code."
      ],
      "metadata": {
        "id": "wtytpSDSGT4F"
      }
    },
    {
      "cell_type": "code",
      "source": [
        "library(tidyverse) #for data manipulation/wrangling and other functionalities"
      ],
      "metadata": {
        "id": "sObCeZyCGYxK",
        "colab": {
          "base_uri": "https://localhost:8080/"
        },
        "outputId": "711dd8c4-da3e-498d-a1a1-1c54482c24f2"
      },
      "execution_count": null,
      "outputs": [
        {
          "output_type": "stream",
          "name": "stderr",
          "text": [
            "── \u001b[1mAttaching core tidyverse packages\u001b[22m ──────────────────────── tidyverse 2.0.0 ──\n",
            "\u001b[32m✔\u001b[39m \u001b[34mdplyr    \u001b[39m 1.1.4     \u001b[32m✔\u001b[39m \u001b[34mreadr    \u001b[39m 2.1.5\n",
            "\u001b[32m✔\u001b[39m \u001b[34mforcats  \u001b[39m 1.0.0     \u001b[32m✔\u001b[39m \u001b[34mstringr  \u001b[39m 1.5.1\n",
            "\u001b[32m✔\u001b[39m \u001b[34mggplot2  \u001b[39m 3.4.4     \u001b[32m✔\u001b[39m \u001b[34mtibble   \u001b[39m 3.2.1\n",
            "\u001b[32m✔\u001b[39m \u001b[34mlubridate\u001b[39m 1.9.3     \u001b[32m✔\u001b[39m \u001b[34mtidyr    \u001b[39m 1.3.1\n",
            "\u001b[32m✔\u001b[39m \u001b[34mpurrr    \u001b[39m 1.0.2     \n",
            "── \u001b[1mConflicts\u001b[22m ────────────────────────────────────────── tidyverse_conflicts() ──\n",
            "\u001b[31m✖\u001b[39m \u001b[34mpurrr\u001b[39m::\u001b[32m%||%()\u001b[39m   masks \u001b[34mbase\u001b[39m::%||%()\n",
            "\u001b[31m✖\u001b[39m \u001b[34mdplyr\u001b[39m::\u001b[32mfilter()\u001b[39m masks \u001b[34mstats\u001b[39m::filter()\n",
            "\u001b[31m✖\u001b[39m \u001b[34mdplyr\u001b[39m::\u001b[32mlag()\u001b[39m    masks \u001b[34mstats\u001b[39m::lag()\n",
            "\u001b[36mℹ\u001b[39m Use the conflicted package (\u001b[3m\u001b[34m<http://conflicted.r-lib.org/>\u001b[39m\u001b[23m) to force all conflicts to become errors\n"
          ]
        }
      ]
    },
    {
      "cell_type": "markdown",
      "source": [
        "Next is to load the data into the workspace. Before loading the data so that we can use it in python, the file must be available\n",
        "\n",
        "> **Upload file**. Go to the folder icon on the left 📁. Then drag the file to upload or go to the upload file icon and select the file that contains your data.\n",
        "\n",
        "> **Load file into workspace**. The code chunk below loads the file into the workspace. Change the name of the file between \" \" in the code to get you file loaded!"
      ],
      "metadata": {
        "id": "Kxb8SnjizbTq"
      }
    },
    {
      "cell_type": "code",
      "source": [
        "barnes_data <- read.csv(\"Barnes Tidy Data.csv\")\n",
        "head(barnes_data)"
      ],
      "metadata": {
        "colab": {
          "base_uri": "https://localhost:8080/",
          "height": 306
        },
        "id": "rOpkks6gHMCV",
        "outputId": "3b9088bb-0ee5-4d10-d5e0-1e159388c5e0"
      },
      "execution_count": null,
      "outputs": [
        {
          "output_type": "display_data",
          "data": {
            "text/html": [
              "<table class=\"dataframe\">\n",
              "<caption>A data.frame: 6 × 32</caption>\n",
              "<thead>\n",
              "\t<tr><th></th><th scope=col>AnimalID</th><th scope=col>GUID</th><th scope=col>InjuryGroupAssignTyp</th><th scope=col>InterventType</th><th scope=col>InjElapsedTime</th><th scope=col>TrialNumBMT</th><th scope=col>LatencyEscapeHolFindDurBMT</th><th scope=col>searchstrategyBMT</th><th scope=col>EquipPlatformDiametValBMT</th><th scope=col>EquipPlatformHeightValBMT</th><th scope=col>⋯</th><th scope=col>StartingLocationBMT</th><th scope=col>TrialTypeBMT</th><th scope=col>IntervalBetweenAcquisitionTrialsBMT</th><th scope=col>AcquisitionNumberofDaysBMT</th><th scope=col>AcquisitiontoProbeIntervalBMT</th><th scope=col>AnimalSpeedBMT</th><th scope=col>DistanceTraveledBMT</th><th scope=col>TargetBoxErrorsPrimaryCtBMT</th><th scope=col>TargetBoxErrorsTotalCtBMT</th><th scope=col>LatencyEscapeHolEnterDurBMT</th></tr>\n",
              "\t<tr><th></th><th scope=col>&lt;chr&gt;</th><th scope=col>&lt;lgl&gt;</th><th scope=col>&lt;chr&gt;</th><th scope=col>&lt;chr&gt;</th><th scope=col>&lt;int&gt;</th><th scope=col>&lt;int&gt;</th><th scope=col>&lt;int&gt;</th><th scope=col>&lt;int&gt;</th><th scope=col>&lt;int&gt;</th><th scope=col>&lt;int&gt;</th><th scope=col>⋯</th><th scope=col>&lt;chr&gt;</th><th scope=col>&lt;chr&gt;</th><th scope=col>&lt;int&gt;</th><th scope=col>&lt;int&gt;</th><th scope=col>&lt;int&gt;</th><th scope=col>&lt;lgl&gt;</th><th scope=col>&lt;lgl&gt;</th><th scope=col>&lt;lgl&gt;</th><th scope=col>&lt;lgl&gt;</th><th scope=col>&lt;lgl&gt;</th></tr>\n",
              "</thead>\n",
              "<tbody>\n",
              "\t<tr><th scope=row>1</th><td>STBI2</td><td>NA</td><td>Sham</td><td>Sham</td><td> 8</td><td>1</td><td> 88</td><td>3</td><td>145</td><td>75</td><td>⋯</td><td>Center</td><td>Learning</td><td>5</td><td>4</td><td>0</td><td>NA</td><td>NA</td><td>NA</td><td>NA</td><td>NA</td></tr>\n",
              "\t<tr><th scope=row>2</th><td>STBI2</td><td>NA</td><td>Sham</td><td>Sham</td><td> 8</td><td>2</td><td> 27</td><td>2</td><td>145</td><td>75</td><td>⋯</td><td>Center</td><td>Learning</td><td>5</td><td>4</td><td>0</td><td>NA</td><td>NA</td><td>NA</td><td>NA</td><td>NA</td></tr>\n",
              "\t<tr><th scope=row>3</th><td>STBI2</td><td>NA</td><td>Sham</td><td>Sham</td><td> 9</td><td>1</td><td>120</td><td>3</td><td>145</td><td>75</td><td>⋯</td><td>Center</td><td>Learning</td><td>5</td><td>4</td><td>0</td><td>NA</td><td>NA</td><td>NA</td><td>NA</td><td>NA</td></tr>\n",
              "\t<tr><th scope=row>4</th><td>STBI2</td><td>NA</td><td>Sham</td><td>Sham</td><td> 9</td><td>2</td><td> 27</td><td>2</td><td>145</td><td>75</td><td>⋯</td><td>Center</td><td>Learning</td><td>5</td><td>4</td><td>0</td><td>NA</td><td>NA</td><td>NA</td><td>NA</td><td>NA</td></tr>\n",
              "\t<tr><th scope=row>5</th><td>STBI2</td><td>NA</td><td>Sham</td><td>Sham</td><td>10</td><td>1</td><td> 16</td><td>2</td><td>145</td><td>75</td><td>⋯</td><td>Center</td><td>Learning</td><td>5</td><td>4</td><td>0</td><td>NA</td><td>NA</td><td>NA</td><td>NA</td><td>NA</td></tr>\n",
              "\t<tr><th scope=row>6</th><td>STBI2</td><td>NA</td><td>Sham</td><td>Sham</td><td>10</td><td>2</td><td> 18</td><td>2</td><td>145</td><td>75</td><td>⋯</td><td>Center</td><td>Learning</td><td>5</td><td>4</td><td>0</td><td>NA</td><td>NA</td><td>NA</td><td>NA</td><td>NA</td></tr>\n",
              "</tbody>\n",
              "</table>\n"
            ],
            "text/markdown": "\nA data.frame: 6 × 32\n\n| <!--/--> | AnimalID &lt;chr&gt; | GUID &lt;lgl&gt; | InjuryGroupAssignTyp &lt;chr&gt; | InterventType &lt;chr&gt; | InjElapsedTime &lt;int&gt; | TrialNumBMT &lt;int&gt; | LatencyEscapeHolFindDurBMT &lt;int&gt; | searchstrategyBMT &lt;int&gt; | EquipPlatformDiametValBMT &lt;int&gt; | EquipPlatformHeightValBMT &lt;int&gt; | ⋯ ⋯ | StartingLocationBMT &lt;chr&gt; | TrialTypeBMT &lt;chr&gt; | IntervalBetweenAcquisitionTrialsBMT &lt;int&gt; | AcquisitionNumberofDaysBMT &lt;int&gt; | AcquisitiontoProbeIntervalBMT &lt;int&gt; | AnimalSpeedBMT &lt;lgl&gt; | DistanceTraveledBMT &lt;lgl&gt; | TargetBoxErrorsPrimaryCtBMT &lt;lgl&gt; | TargetBoxErrorsTotalCtBMT &lt;lgl&gt; | LatencyEscapeHolEnterDurBMT &lt;lgl&gt; |\n|---|---|---|---|---|---|---|---|---|---|---|---|---|---|---|---|---|---|---|---|---|---|\n| 1 | STBI2 | NA | Sham | Sham |  8 | 1 |  88 | 3 | 145 | 75 | ⋯ | Center | Learning | 5 | 4 | 0 | NA | NA | NA | NA | NA |\n| 2 | STBI2 | NA | Sham | Sham |  8 | 2 |  27 | 2 | 145 | 75 | ⋯ | Center | Learning | 5 | 4 | 0 | NA | NA | NA | NA | NA |\n| 3 | STBI2 | NA | Sham | Sham |  9 | 1 | 120 | 3 | 145 | 75 | ⋯ | Center | Learning | 5 | 4 | 0 | NA | NA | NA | NA | NA |\n| 4 | STBI2 | NA | Sham | Sham |  9 | 2 |  27 | 2 | 145 | 75 | ⋯ | Center | Learning | 5 | 4 | 0 | NA | NA | NA | NA | NA |\n| 5 | STBI2 | NA | Sham | Sham | 10 | 1 |  16 | 2 | 145 | 75 | ⋯ | Center | Learning | 5 | 4 | 0 | NA | NA | NA | NA | NA |\n| 6 | STBI2 | NA | Sham | Sham | 10 | 2 |  18 | 2 | 145 | 75 | ⋯ | Center | Learning | 5 | 4 | 0 | NA | NA | NA | NA | NA |\n\n",
            "text/latex": "A data.frame: 6 × 32\n\\begin{tabular}{r|lllllllllllllllllllll}\n  & AnimalID & GUID & InjuryGroupAssignTyp & InterventType & InjElapsedTime & TrialNumBMT & LatencyEscapeHolFindDurBMT & searchstrategyBMT & EquipPlatformDiametValBMT & EquipPlatformHeightValBMT & ⋯ & StartingLocationBMT & TrialTypeBMT & IntervalBetweenAcquisitionTrialsBMT & AcquisitionNumberofDaysBMT & AcquisitiontoProbeIntervalBMT & AnimalSpeedBMT & DistanceTraveledBMT & TargetBoxErrorsPrimaryCtBMT & TargetBoxErrorsTotalCtBMT & LatencyEscapeHolEnterDurBMT\\\\\n  & <chr> & <lgl> & <chr> & <chr> & <int> & <int> & <int> & <int> & <int> & <int> & ⋯ & <chr> & <chr> & <int> & <int> & <int> & <lgl> & <lgl> & <lgl> & <lgl> & <lgl>\\\\\n\\hline\n\t1 & STBI2 & NA & Sham & Sham &  8 & 1 &  88 & 3 & 145 & 75 & ⋯ & Center & Learning & 5 & 4 & 0 & NA & NA & NA & NA & NA\\\\\n\t2 & STBI2 & NA & Sham & Sham &  8 & 2 &  27 & 2 & 145 & 75 & ⋯ & Center & Learning & 5 & 4 & 0 & NA & NA & NA & NA & NA\\\\\n\t3 & STBI2 & NA & Sham & Sham &  9 & 1 & 120 & 3 & 145 & 75 & ⋯ & Center & Learning & 5 & 4 & 0 & NA & NA & NA & NA & NA\\\\\n\t4 & STBI2 & NA & Sham & Sham &  9 & 2 &  27 & 2 & 145 & 75 & ⋯ & Center & Learning & 5 & 4 & 0 & NA & NA & NA & NA & NA\\\\\n\t5 & STBI2 & NA & Sham & Sham & 10 & 1 &  16 & 2 & 145 & 75 & ⋯ & Center & Learning & 5 & 4 & 0 & NA & NA & NA & NA & NA\\\\\n\t6 & STBI2 & NA & Sham & Sham & 10 & 2 &  18 & 2 & 145 & 75 & ⋯ & Center & Learning & 5 & 4 & 0 & NA & NA & NA & NA & NA\\\\\n\\end{tabular}\n",
            "text/plain": [
              "  AnimalID GUID InjuryGroupAssignTyp InterventType InjElapsedTime TrialNumBMT\n",
              "1 STBI2    NA   Sham                 Sham           8             1          \n",
              "2 STBI2    NA   Sham                 Sham           8             2          \n",
              "3 STBI2    NA   Sham                 Sham           9             1          \n",
              "4 STBI2    NA   Sham                 Sham           9             2          \n",
              "5 STBI2    NA   Sham                 Sham          10             1          \n",
              "6 STBI2    NA   Sham                 Sham          10             2          \n",
              "  LatencyEscapeHolFindDurBMT searchstrategyBMT EquipPlatformDiametValBMT\n",
              "1  88                        3                 145                      \n",
              "2  27                        2                 145                      \n",
              "3 120                        3                 145                      \n",
              "4  27                        2                 145                      \n",
              "5  16                        2                 145                      \n",
              "6  18                        2                 145                      \n",
              "  EquipPlatformHeightValBMT ⋯ StartingLocationBMT TrialTypeBMT\n",
              "1 75                        ⋯ Center              Learning    \n",
              "2 75                        ⋯ Center              Learning    \n",
              "3 75                        ⋯ Center              Learning    \n",
              "4 75                        ⋯ Center              Learning    \n",
              "5 75                        ⋯ Center              Learning    \n",
              "6 75                        ⋯ Center              Learning    \n",
              "  IntervalBetweenAcquisitionTrialsBMT AcquisitionNumberofDaysBMT\n",
              "1 5                                   4                         \n",
              "2 5                                   4                         \n",
              "3 5                                   4                         \n",
              "4 5                                   4                         \n",
              "5 5                                   4                         \n",
              "6 5                                   4                         \n",
              "  AcquisitiontoProbeIntervalBMT AnimalSpeedBMT DistanceTraveledBMT\n",
              "1 0                             NA             NA                 \n",
              "2 0                             NA             NA                 \n",
              "3 0                             NA             NA                 \n",
              "4 0                             NA             NA                 \n",
              "5 0                             NA             NA                 \n",
              "6 0                             NA             NA                 \n",
              "  TargetBoxErrorsPrimaryCtBMT TargetBoxErrorsTotalCtBMT\n",
              "1 NA                          NA                       \n",
              "2 NA                          NA                       \n",
              "3 NA                          NA                       \n",
              "4 NA                          NA                       \n",
              "5 NA                          NA                       \n",
              "6 NA                          NA                       \n",
              "  LatencyEscapeHolEnterDurBMT\n",
              "1 NA                         \n",
              "2 NA                         \n",
              "3 NA                         \n",
              "4 NA                         \n",
              "5 NA                         \n",
              "6 NA                         "
            ]
          },
          "metadata": {}
        }
      ]
    },
    {
      "cell_type": "markdown",
      "source": [
        "**How many unique animals are in the data?**"
      ],
      "metadata": {
        "id": "SYH47wLbNLnZ"
      }
    },
    {
      "cell_type": "code",
      "source": [
        "unique_animals<-unique(barnes_data$AnimalID)\n",
        "length(unique_animals)"
      ],
      "metadata": {
        "colab": {
          "base_uri": "https://localhost:8080/",
          "height": 34
        },
        "id": "XmMmWwRSNYtu",
        "outputId": "29f4761b-7794-47f6-d6f3-ebb960f417ab"
      },
      "execution_count": null,
      "outputs": [
        {
          "output_type": "display_data",
          "data": {
            "text/html": [
              "60"
            ],
            "text/markdown": "60",
            "text/latex": "60",
            "text/plain": [
              "[1] 60"
            ]
          },
          "metadata": {}
        }
      ]
    },
    {
      "cell_type": "markdown",
      "source": [
        "**How many unique groups are in the data?**"
      ],
      "metadata": {
        "id": "U74IbmbBmNQB"
      }
    },
    {
      "cell_type": "markdown",
      "source": [
        "# 2. Explor your data <a name=\"explor-your-data\"></a>\n",
        "[back up](#toc)\n",
        "\n",
        "Great, you have loaded the dataset and should be able to see a sample of it in the table above! The next code is used to create an example plot. Let's create one.\n",
        "\n",
        ">**Create a boxplot**. Run the code bellow to create a boxplot between a categorical variable (x) and a numerical variable (y). In the example bellow, we have ploted the latency escape for sham and TBI animals. Change the name of the variables to plot to create a different one."
      ],
      "metadata": {
        "id": "EHMrP91d1Vm2"
      }
    },
    {
      "cell_type": "code",
      "source": [
        "## Using ggplot2 package\n",
        "ggplot(barnes_data, aes(InjuryGroupAssignTyp, LatencyEscapeHolFindDurBMT))+\n",
        "  geom_boxplot()"
      ],
      "metadata": {
        "id": "ViVJ_S_OuB93"
      },
      "execution_count": null,
      "outputs": []
    },
    {
      "cell_type": "markdown",
      "source": [
        "# 3. Some analysis <a name=\"some-analysis\"></a>\n",
        "[back up](#toc)\n",
        "\n",
        "Next, we are going to perform a repeated measures ANOVA to determine whether Sham or TBI groups have differences in the latency over repeated times of assessment.\n",
        "\n",
        "First we check the timepoints and entries:"
      ],
      "metadata": {
        "id": "JA12_vPaMPNx"
      }
    },
    {
      "cell_type": "code",
      "source": [
        "## Number of entries per timepoint\n",
        "table(barnes_data$InjElapsedTime, barnes_data$InjuryGroupAssignTyp)"
      ],
      "metadata": {
        "colab": {
          "base_uri": "https://localhost:8080/",
          "height": 121
        },
        "id": "x7Bh7-9TLpzz",
        "outputId": "42742e07-b45d-40ef-9e8a-30b9708eb63c"
      },
      "execution_count": null,
      "outputs": [
        {
          "output_type": "display_data",
          "data": {
            "text/plain": [
              "    \n",
              "     Sham TBI\n",
              "  8    32  88\n",
              "  9    32  88\n",
              "  10   32  88\n",
              "  11   32  88"
            ]
          },
          "metadata": {}
        }
      ]
    },
    {
      "cell_type": "markdown",
      "source": [
        "**It seems we have more entries than unique animals!** This is because each animal is tested 2 times each session.\n",
        "\n",
        "For simplicity, we are going to take the average per animal and timepoint first"
      ],
      "metadata": {
        "id": "6D-mo7i8M0in"
      }
    },
    {
      "cell_type": "code",
      "source": [
        "barnes_data_mean_trial<-barnes_data%>%\n",
        "  group_by(AnimalID, InjElapsedTime)%>%\n",
        "  summarise(InjuryGroupAssignTyp = unique(InjuryGroupAssignTyp),\n",
        "            LatencyEscapeHolFindDurBMT_mean = mean(LatencyEscapeHolFindDurBMT, na.rm = T))\n",
        "\n",
        "head(barnes_data_mean_trial)"
      ],
      "metadata": {
        "colab": {
          "base_uri": "https://localhost:8080/",
          "height": 321
        },
        "id": "StimWe4qMx82",
        "outputId": "01d4348f-4bfe-48ea-dada-4cc9859c68e5"
      },
      "execution_count": null,
      "outputs": [
        {
          "output_type": "stream",
          "name": "stderr",
          "text": [
            "\u001b[1m\u001b[22m`summarise()` has grouped output by 'AnimalID'. You can override using the\n",
            "`.groups` argument.\n"
          ]
        },
        {
          "output_type": "display_data",
          "data": {
            "text/html": [
              "<table class=\"dataframe\">\n",
              "<caption>A grouped_df: 6 × 4</caption>\n",
              "<thead>\n",
              "\t<tr><th scope=col>AnimalID</th><th scope=col>InjElapsedTime</th><th scope=col>InjuryGroupAssignTyp</th><th scope=col>LatencyEscapeHolFindDurBMT_mean</th></tr>\n",
              "\t<tr><th scope=col>&lt;chr&gt;</th><th scope=col>&lt;int&gt;</th><th scope=col>&lt;chr&gt;</th><th scope=col>&lt;dbl&gt;</th></tr>\n",
              "</thead>\n",
              "<tbody>\n",
              "\t<tr><td>STBI1 </td><td> 8</td><td>TBI</td><td> 38.5</td></tr>\n",
              "\t<tr><td>STBI1 </td><td> 9</td><td>TBI</td><td> 79.0</td></tr>\n",
              "\t<tr><td>STBI1 </td><td>10</td><td>TBI</td><td> 18.5</td></tr>\n",
              "\t<tr><td>STBI1 </td><td>11</td><td>TBI</td><td> 26.5</td></tr>\n",
              "\t<tr><td>STBI10</td><td> 8</td><td>TBI</td><td> 95.0</td></tr>\n",
              "\t<tr><td>STBI10</td><td> 9</td><td>TBI</td><td>300.0</td></tr>\n",
              "</tbody>\n",
              "</table>\n"
            ],
            "text/markdown": "\nA grouped_df: 6 × 4\n\n| AnimalID &lt;chr&gt; | InjElapsedTime &lt;int&gt; | InjuryGroupAssignTyp &lt;chr&gt; | LatencyEscapeHolFindDurBMT_mean &lt;dbl&gt; |\n|---|---|---|---|\n| STBI1  |  8 | TBI |  38.5 |\n| STBI1  |  9 | TBI |  79.0 |\n| STBI1  | 10 | TBI |  18.5 |\n| STBI1  | 11 | TBI |  26.5 |\n| STBI10 |  8 | TBI |  95.0 |\n| STBI10 |  9 | TBI | 300.0 |\n\n",
            "text/latex": "A grouped\\_df: 6 × 4\n\\begin{tabular}{llll}\n AnimalID & InjElapsedTime & InjuryGroupAssignTyp & LatencyEscapeHolFindDurBMT\\_mean\\\\\n <chr> & <int> & <chr> & <dbl>\\\\\n\\hline\n\t STBI1  &  8 & TBI &  38.5\\\\\n\t STBI1  &  9 & TBI &  79.0\\\\\n\t STBI1  & 10 & TBI &  18.5\\\\\n\t STBI1  & 11 & TBI &  26.5\\\\\n\t STBI10 &  8 & TBI &  95.0\\\\\n\t STBI10 &  9 & TBI & 300.0\\\\\n\\end{tabular}\n",
            "text/plain": [
              "  AnimalID InjElapsedTime InjuryGroupAssignTyp LatencyEscapeHolFindDurBMT_mean\n",
              "1 STBI1     8             TBI                   38.5                          \n",
              "2 STBI1     9             TBI                   79.0                          \n",
              "3 STBI1    10             TBI                   18.5                          \n",
              "4 STBI1    11             TBI                   26.5                          \n",
              "5 STBI10    8             TBI                   95.0                          \n",
              "6 STBI10    9             TBI                  300.0                          "
            ]
          },
          "metadata": {}
        }
      ]
    },
    {
      "cell_type": "markdown",
      "source": [
        "We can confirm running the same code as before"
      ],
      "metadata": {
        "id": "CACWzNKuOoq9"
      }
    },
    {
      "cell_type": "code",
      "source": [
        "## Number of entries per timepoint\n",
        "table(barnes_data_mean_trial$InjElapsedTime, barnes_data_mean_trial$InjuryGroupAssignTyp)"
      ],
      "metadata": {
        "id": "dRYNHKqyOutl"
      },
      "execution_count": null,
      "outputs": []
    },
    {
      "cell_type": "markdown",
      "source": [
        "Let's now creat a plot to visualize the data. This is a bit of a complicated code, so don't worry too much, just check the results!"
      ],
      "metadata": {
        "id": "xo1vOZYnOhRn"
      }
    },
    {
      "cell_type": "code",
      "source": [
        "ggplot(barnes_data_mean_trial, aes(factor(InjElapsedTime), LatencyEscapeHolFindDurBMT_mean, color = InjuryGroupAssignTyp))+\n",
        "  geom_boxplot()"
      ],
      "metadata": {
        "id": "UsjWt8ugOoMt"
      },
      "execution_count": null,
      "outputs": []
    },
    {
      "cell_type": "code",
      "source": [
        "ggplot(barnes_data_mean_trial, aes(InjElapsedTime, LatencyEscapeHolFindDurBMT_mean, color = InjuryGroupAssignTyp))+\n",
        "  stat_summary(fun = \"mean\", geom = \"line\")+\n",
        "  stat_summary(fun.data = \"mean_se\", geom = \"errorbar\")"
      ],
      "metadata": {
        "colab": {
          "base_uri": "https://localhost:8080/",
          "height": 506
        },
        "id": "9CRgMKmbnG_w",
        "outputId": "9b5073dd-e58d-4470-dd09-400a5ab146fb"
      },
      "execution_count": null,
      "outputs": [
        {
          "output_type": "stream",
          "name": "stderr",
          "text": [
            "Warning message:\n",
            "“\u001b[1m\u001b[22mRemoved 4 rows containing non-finite values (`stat_summary()`).”\n",
            "Warning message:\n",
            "“\u001b[1m\u001b[22mRemoved 4 rows containing non-finite values (`stat_summary()`).”\n"
          ]
        },
        {
          "output_type": "display_data",
          "data": {
            "text/plain": [
              "plot without title"
            ],
            "image/png": "[encoded data removed]"
          },
          "metadata": {
            "image/png": {
              "width": 420,
              "height": 420
            }
          }
        }
      ]
    },
    {
      "cell_type": "markdown",
      "source": [
        "So it seems the groups might evolve differently over time. Let's do the proper statistics.\n",
        "\n",
        "We run an ANOVA model with interaction between time and group and animal as error term. This is called a repeated measures anova!\n",
        "\n",
        "We first test the normality assumption. The normality assumption can be checked by computing Shapiro-Wilk test for each time point. If the data is normally distributed, the p-value should be greater than 0.05."
      ],
      "metadata": {
        "id": "OP7r1dADP50s"
      }
    },
    {
      "cell_type": "code",
      "source": [
        "tapply(barnes_data_mean_trial,\n",
        "interaction(barnes_data_mean_trial$InjElapsedTime,barnes_data_mean_trial$InjuryGroupAssignTyp),\n",
        "FUN = function(i) shapiro.test(i$LatencyEscapeHolFindDurBMT_mean))"
      ],
      "metadata": {
        "id": "0gv_sS9NVhIs"
      },
      "execution_count": null,
      "outputs": []
    },
    {
      "cell_type": "code",
      "source": [
        "## Run an ANOVA model with interaction between time and group and animal as error term. This is called a repeated measures anova!\n",
        "results<-aov(LatencyEscapeHolFindDurBMT_mean~factor(InjElapsedTime)*InjuryGroupAssignTyp+Error(AnimalID), data = barnes_data_mean_trial)"
      ],
      "metadata": {
        "id": "pyJDy1fMQEkR"
      },
      "execution_count": null,
      "outputs": []
    },
    {
      "cell_type": "markdown",
      "source": [
        "Now we can get the table of results"
      ],
      "metadata": {
        "id": "kFiRI0zNQuw1"
      }
    },
    {
      "cell_type": "code",
      "source": [
        "summary(results)"
      ],
      "metadata": {
        "id": "8YvWsW-mQZsi"
      },
      "execution_count": null,
      "outputs": []
    },
    {
      "cell_type": "markdown",
      "source": [
        "# 4. Design the next experiment <a name=\"design\"></a>\n",
        "[back up](#toc)\n",
        "\n",
        "Let's imaging that we want to perfom a new experiment where we are looking at a treatment. Our hypothesis is that treatment prevents the lost of learning capacity that occours after TBI. To simplify the analysis, we are considering the differences at just time 9 after injury.\n",
        "\n",
        "We want to calculate what is a needed sample size for an experiment that as a power of 80% (considered an accepted one) at a significance level of 5% (also called alpha). We use the previous data to make such calculations for a t.test statistic, which is what we decide we will use for inference given the experimental desing."
      ],
      "metadata": {
        "id": "LVo1Ko9OY_MB"
      }
    },
    {
      "cell_type": "markdown",
      "source": [
        "\n",
        "\n",
        "---\n",
        "\n",
        "First, we need to calculate the expected effect size. For that we can use the standardized mean difference between groups at time 9 (also known as Cohen's d)"
      ],
      "metadata": {
        "id": "LwcJR6quaIKL"
      }
    },
    {
      "cell_type": "code",
      "source": [
        "# select time 9\n",
        "barnes_data_mean_trial_9<-barnes_data_mean_trial%>%\n",
        "  filter(InjElapsedTime==9)\n",
        "\n",
        "# calculate the mean per group\n",
        "mean_groups<-tapply(barnes_data_mean_trial$LatencyEscapeHolFindDurBMT_mean, barnes_data_mean_trial$InjuryGroupAssignTyp,\n",
        "      mean, na.rm = T)\n",
        "# calculate the variance per group\n",
        "var_groups<-tapply(barnes_data_mean_trial$LatencyEscapeHolFindDurBMT_mean, barnes_data_mean_trial$InjuryGroupAssignTyp,\n",
        "      var, na.rm = T)\n",
        "\n",
        "sd_pooled<-sqrt((var_groups[1]+var_groups[2])/2) # pooled standard deviation\n",
        "\n",
        "# calculate cohen's d\n",
        "d<-(mean_groups[2]-mean_groups[1])/sd_pooled\n",
        "\n",
        "d"
      ],
      "metadata": {
        "id": "EGjy_tLoaEjH"
      },
      "execution_count": null,
      "outputs": []
    },
    {
      "cell_type": "markdown",
      "source": [
        "We can see that the standardized effect of TBI is ~0.431 over Sham in latency. Now we can estimate our needed sample size."
      ],
      "metadata": {
        "id": "JP4VngNhcTxO"
      }
    },
    {
      "cell_type": "code",
      "source": [
        "power.t.test(d = d, sig.level = 0.05, power = 0.8, type = \"two.sample\")"
      ],
      "metadata": {
        "id": "7K9HULyccnwx"
      },
      "execution_count": null,
      "outputs": []
    },
    {
      "cell_type": "markdown",
      "source": [],
      "metadata": {
        "id": "L1lPEbSAl8oV"
      }
    }
  ]
}